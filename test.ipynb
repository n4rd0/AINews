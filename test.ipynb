{
 "cells": [
  {
   "cell_type": "code",
   "execution_count": null,
   "metadata": {},
   "outputs": [],
   "source": [
    "import feedparser\n",
    "\n",
    "NewsFeed_Artificial_Intelligence = feedparser.parse(\"https://hnrss.org/newest?q=Artificial+Intelligence\")\n",
    "NewsFeed_AI = feedparser.parse(\"https://hnrss.org/newest?q=AI\")\n",
    "\n",
    "print(NewsFeed_Artificial_Intelligence.entries[0].keys(),\"\\n\")\n",
    "print(NewsFeed_AI.entries[0].keys(),\"\\n\")\n",
    "\n",
    "print(\"NEWS Artificial Intelligence: \",len(NewsFeed_Artificial_Intelligence.entries))\n",
    "\n",
    "print(\"NEWS AI: \",len(NewsFeed_AI.entries),\"\\n\")\n",
    "\n",
    "for entryArtif, entryAI in zip(NewsFeed_Artificial_Intelligence.entries, NewsFeed_AI.entries):\n",
    "    print(entryArtif[\"title\"])\n",
    "    print(entryArtif[\"link\"])\n",
    "    print(\"\\n\\n\")\n",
    "    \n",
    "    print(entryAI[\"title\"])\n",
    "    print(entryAI[\"link\"])\n",
    "    print(\"\\n\\n\")"
   ]
  },
  {
   "cell_type": "code",
   "execution_count": null,
   "metadata": {},
   "outputs": [],
   "source": [
    "import feedparser\n",
    "\n",
    "#A list of reddit subreddits\n",
    "hot_topics = [\"ArtificialInteligence\"]\n",
    "news_feed = []\n",
    "\n",
    "for topic in hot_topics:\n",
    "    try: \n",
    "        news_feed.append(feedparser.parse(\"https://www.reddit.com/r/%s/hot/.rss\" % (topic)))\n",
    "    except: \n",
    "        print(\"There is no such topic\")\n",
    "        continue\n",
    "\n",
    "for feed in news_feed:\n",
    "    print(\"NEWS %s: %s \\n\" % (feed[\"entries\"][0][\"tags\"][0][\"term\"], str(len(feed.entries))))\n",
    "\n",
    "    for entry in feed.entries[2:]:\n",
    "        print(\"RAW DATA\")\n",
    "        print(\"Title: \",entry[\"title\"])\n",
    "        print(\"Reddit Link:\",entry[\"link\"])\n",
    "        print(\"News RAW Content:\",[entry[\"content\"][0][\"value\"]])\n",
    "        print(\"\\n\\n\")\n",
    "        \n",
    "        #PROCESADO CON LANGCHAIN \n",
    "        \n",
    "        \"\"\"\n",
    "        Resumeme la siguiente noticia en HTML devolviendome el siguiente formato:\n",
    "        {\n",
    "            Titulo: Titulo de la noticia\n",
    "            Resumen:Resumen en castellano de la noticia\n",
    "            Enlaces: Una lista de los enlaces en la noticia y una breve descripcion de que contiene cada uno\n",
    "        }\n",
    "        \"\"\"\n",
    "    "
   ]
  }
 ],
 "metadata": {
  "kernelspec": {
   "display_name": ".venv",
   "language": "python",
   "name": "python3"
  },
  "language_info": {
   "codemirror_mode": {
    "name": "ipython",
    "version": 3
   },
   "file_extension": ".py",
   "mimetype": "text/x-python",
   "name": "python",
   "nbconvert_exporter": "python",
   "pygments_lexer": "ipython3",
   "version": "3.10.12"
  },
  "orig_nbformat": 4
 },
 "nbformat": 4,
 "nbformat_minor": 2
}
